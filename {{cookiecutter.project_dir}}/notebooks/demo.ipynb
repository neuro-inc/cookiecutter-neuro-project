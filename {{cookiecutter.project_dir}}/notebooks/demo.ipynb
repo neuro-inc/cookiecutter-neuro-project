{
 "cells": [
  {
   "cell_type": "code",
   "execution_count": 1,
   "metadata": {},
   "outputs": [],
   "source": [
    "%load_ext autoreload\n",
    "%autoreload 2"
   ]
  },
  {
   "cell_type": "markdown",
   "source": [
    "The code from '{{cookiecutter.code_directory}}' directory is mounted under /project/modules, which is set as env PYTHONPATH.\n",
    "Therefore, you could import modules from this folder as is.\n",
    "\n",
    "For more info (other mounting paths, parameters, etc), refer to [neuro-flow jupyter action repository](https://github.com/neuro-actions/jupyter)."
   ],
   "metadata": {
    "collapsed": false,
    "pycharm": {
     "name": "#%% md\n"
    }
   }
  },
  {
   "cell_type": "code",
   "execution_count": null,
   "outputs": [],
   "source": [
    "from train import train, get_parser\n",
    "\n",
    "arg_parser = get_parser()\n",
    "args = arg_parser.parse_args([\"--data_dir\", \"/project/data\"])\n",
    "\n",
    "train(args)"
   ],
   "metadata": {
    "collapsed": false,
    "pycharm": {
     "name": "#%%\n"
    }
   }
  }
 ],
 "metadata": {
  "kernelspec": {
   "display_name": "Python 3",
   "language": "python",
   "name": "python3"
  },
  "language_info": {
   "codemirror_mode": {
    "name": "ipython",
    "version": 3
   },
   "file_extension": ".py",
   "mimetype": "text/x-python",
   "name": "python",
   "nbconvert_exporter": "python",
   "pygments_lexer": "ipython3",
   "version": "3.6.3"
  }
 },
 "nbformat": 4,
 "nbformat_minor": 2
}
